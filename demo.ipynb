{
 "cells": [
  {
   "cell_type": "code",
   "execution_count": 69,
   "id": "initial_id",
   "metadata": {
    "collapsed": true,
    "ExecuteTime": {
     "end_time": "2024-05-20T21:32:10.851660900Z",
     "start_time": "2024-05-20T21:32:10.768940400Z"
    }
   },
   "outputs": [],
   "source": [
    "from torchvision.datasets import SVHN, CIFAR10\n",
    "import torch\n",
    "import torchvision.transforms as transforms\n",
    "from neural_mean_discrepancy import Neural_Mean_Discrepancy\n",
    "from utils import get_conv_layer_names\n",
    "import numpy as np\n",
    "from sklearn.linear_model import LogisticRegression\n",
    "from sklearn.metrics import classification_report"
   ]
  },
  {
   "cell_type": "markdown",
   "source": [
    "## Neural Mean Discrepancy demo\n",
    "\n",
    "#### 1. Retrieve datasets. \n",
    "\n",
    "We will use CIFAR10 as the i.d. dataset, and SVHN as the o.o.d. dataset. "
   ],
   "metadata": {
    "collapsed": false
   },
   "id": "8f96435d858574a9"
  },
  {
   "cell_type": "code",
   "outputs": [
    {
     "name": "stdout",
     "output_type": "stream",
     "text": [
      "Files already downloaded and verified\n",
      "Files already downloaded and verified\n",
      "Using downloaded and verified file: data/svhn/test_32x32.mat\n"
     ]
    }
   ],
   "source": [
    "# id dataset.\n",
    "CIFAR10_transforms = transforms.Compose(\n",
    "    [transforms.ToTensor(),\n",
    "     transforms.Normalize((0.4914, 0.4822, 0.4465), (0.2023, 0.1994, 0.2010))])\n",
    "CIFAR10_train_dataset = CIFAR10(root='data/cifar10', download=True, train=True, transform=CIFAR10_transforms)\n",
    "CIFAR10_test_dataset = CIFAR10(root='data/cifar10', download=True, train=False, transform=CIFAR10_transforms)\n",
    "CIFAR10_val_dataset, CIFAR10_test_dataset = torch.utils.data.random_split(CIFAR10_test_dataset, [5000, 5000])\n",
    "\n",
    "# ood dataset\n",
    "SVHN_transforms = transforms.Compose(\n",
    "    [transforms.ToTensor(),\n",
    "     transforms.Normalize((0.4377, 0.4438, 0.4728), (0.1980, 0.2010, 0.1970))])\n",
    "SVHN_test_dataset = SVHN(root='data/svhn', download=True, split='test', transform=SVHN_transforms)\n",
    "SVHN_val_dataset, SVHN_test_dataset = torch.utils.data.random_split(SVHN_test_dataset, [13016, 13016])"
   ],
   "metadata": {
    "collapsed": false,
    "ExecuteTime": {
     "end_time": "2024-05-20T21:15:51.966784100Z",
     "start_time": "2024-05-20T21:15:45.140414700Z"
    }
   },
   "id": "7f70572289f3bf34",
   "execution_count": 46
  },
  {
   "cell_type": "markdown",
   "source": [
    "#### 2. Load a ResNet20 model that has been pretrained on CIFAR10"
   ],
   "metadata": {
    "collapsed": false
   },
   "id": "8d4530c0b7e51a1f"
  },
  {
   "cell_type": "code",
   "outputs": [
    {
     "name": "stderr",
     "output_type": "stream",
     "text": [
      "Using cache found in /home/kitbransby/.cache/torch/hub/chenyaofo_pytorch-cifar-models_master\n"
     ]
    },
    {
     "data": {
      "text/plain": "CifarResNet(\n  (conv1): Conv2d(3, 16, kernel_size=(3, 3), stride=(1, 1), padding=(1, 1), bias=False)\n  (bn1): BatchNorm2d(16, eps=1e-05, momentum=0.1, affine=True, track_running_stats=True)\n  (relu): ReLU(inplace=True)\n  (layer1): Sequential(\n    (0): BasicBlock(\n      (conv1): Conv2d(16, 16, kernel_size=(3, 3), stride=(1, 1), padding=(1, 1), bias=False)\n      (bn1): BatchNorm2d(16, eps=1e-05, momentum=0.1, affine=True, track_running_stats=True)\n      (relu): ReLU(inplace=True)\n      (conv2): Conv2d(16, 16, kernel_size=(3, 3), stride=(1, 1), padding=(1, 1), bias=False)\n      (bn2): BatchNorm2d(16, eps=1e-05, momentum=0.1, affine=True, track_running_stats=True)\n    )\n    (1): BasicBlock(\n      (conv1): Conv2d(16, 16, kernel_size=(3, 3), stride=(1, 1), padding=(1, 1), bias=False)\n      (bn1): BatchNorm2d(16, eps=1e-05, momentum=0.1, affine=True, track_running_stats=True)\n      (relu): ReLU(inplace=True)\n      (conv2): Conv2d(16, 16, kernel_size=(3, 3), stride=(1, 1), padding=(1, 1), bias=False)\n      (bn2): BatchNorm2d(16, eps=1e-05, momentum=0.1, affine=True, track_running_stats=True)\n    )\n    (2): BasicBlock(\n      (conv1): Conv2d(16, 16, kernel_size=(3, 3), stride=(1, 1), padding=(1, 1), bias=False)\n      (bn1): BatchNorm2d(16, eps=1e-05, momentum=0.1, affine=True, track_running_stats=True)\n      (relu): ReLU(inplace=True)\n      (conv2): Conv2d(16, 16, kernel_size=(3, 3), stride=(1, 1), padding=(1, 1), bias=False)\n      (bn2): BatchNorm2d(16, eps=1e-05, momentum=0.1, affine=True, track_running_stats=True)\n    )\n  )\n  (layer2): Sequential(\n    (0): BasicBlock(\n      (conv1): Conv2d(16, 32, kernel_size=(3, 3), stride=(2, 2), padding=(1, 1), bias=False)\n      (bn1): BatchNorm2d(32, eps=1e-05, momentum=0.1, affine=True, track_running_stats=True)\n      (relu): ReLU(inplace=True)\n      (conv2): Conv2d(32, 32, kernel_size=(3, 3), stride=(1, 1), padding=(1, 1), bias=False)\n      (bn2): BatchNorm2d(32, eps=1e-05, momentum=0.1, affine=True, track_running_stats=True)\n      (downsample): Sequential(\n        (0): Conv2d(16, 32, kernel_size=(1, 1), stride=(2, 2), bias=False)\n        (1): BatchNorm2d(32, eps=1e-05, momentum=0.1, affine=True, track_running_stats=True)\n      )\n    )\n    (1): BasicBlock(\n      (conv1): Conv2d(32, 32, kernel_size=(3, 3), stride=(1, 1), padding=(1, 1), bias=False)\n      (bn1): BatchNorm2d(32, eps=1e-05, momentum=0.1, affine=True, track_running_stats=True)\n      (relu): ReLU(inplace=True)\n      (conv2): Conv2d(32, 32, kernel_size=(3, 3), stride=(1, 1), padding=(1, 1), bias=False)\n      (bn2): BatchNorm2d(32, eps=1e-05, momentum=0.1, affine=True, track_running_stats=True)\n    )\n    (2): BasicBlock(\n      (conv1): Conv2d(32, 32, kernel_size=(3, 3), stride=(1, 1), padding=(1, 1), bias=False)\n      (bn1): BatchNorm2d(32, eps=1e-05, momentum=0.1, affine=True, track_running_stats=True)\n      (relu): ReLU(inplace=True)\n      (conv2): Conv2d(32, 32, kernel_size=(3, 3), stride=(1, 1), padding=(1, 1), bias=False)\n      (bn2): BatchNorm2d(32, eps=1e-05, momentum=0.1, affine=True, track_running_stats=True)\n    )\n  )\n  (layer3): Sequential(\n    (0): BasicBlock(\n      (conv1): Conv2d(32, 64, kernel_size=(3, 3), stride=(2, 2), padding=(1, 1), bias=False)\n      (bn1): BatchNorm2d(64, eps=1e-05, momentum=0.1, affine=True, track_running_stats=True)\n      (relu): ReLU(inplace=True)\n      (conv2): Conv2d(64, 64, kernel_size=(3, 3), stride=(1, 1), padding=(1, 1), bias=False)\n      (bn2): BatchNorm2d(64, eps=1e-05, momentum=0.1, affine=True, track_running_stats=True)\n      (downsample): Sequential(\n        (0): Conv2d(32, 64, kernel_size=(1, 1), stride=(2, 2), bias=False)\n        (1): BatchNorm2d(64, eps=1e-05, momentum=0.1, affine=True, track_running_stats=True)\n      )\n    )\n    (1): BasicBlock(\n      (conv1): Conv2d(64, 64, kernel_size=(3, 3), stride=(1, 1), padding=(1, 1), bias=False)\n      (bn1): BatchNorm2d(64, eps=1e-05, momentum=0.1, affine=True, track_running_stats=True)\n      (relu): ReLU(inplace=True)\n      (conv2): Conv2d(64, 64, kernel_size=(3, 3), stride=(1, 1), padding=(1, 1), bias=False)\n      (bn2): BatchNorm2d(64, eps=1e-05, momentum=0.1, affine=True, track_running_stats=True)\n    )\n    (2): BasicBlock(\n      (conv1): Conv2d(64, 64, kernel_size=(3, 3), stride=(1, 1), padding=(1, 1), bias=False)\n      (bn1): BatchNorm2d(64, eps=1e-05, momentum=0.1, affine=True, track_running_stats=True)\n      (relu): ReLU(inplace=True)\n      (conv2): Conv2d(64, 64, kernel_size=(3, 3), stride=(1, 1), padding=(1, 1), bias=False)\n      (bn2): BatchNorm2d(64, eps=1e-05, momentum=0.1, affine=True, track_running_stats=True)\n    )\n  )\n  (avgpool): AdaptiveAvgPool2d(output_size=(1, 1))\n  (fc): Linear(in_features=64, out_features=10, bias=True)\n)"
     },
     "execution_count": 13,
     "metadata": {},
     "output_type": "execute_result"
    }
   ],
   "source": [
    "# https://github.com/chenyaofo/pytorch-cifar-models?tab=readme-ov-file\n",
    "model = torch.hub.load(\"chenyaofo/pytorch-cifar-models\", \"cifar10_resnet20\", pretrained=True)\n",
    "model.eval()"
   ],
   "metadata": {
    "collapsed": false,
    "ExecuteTime": {
     "end_time": "2024-05-20T16:01:09.404030300Z",
     "start_time": "2024-05-20T16:01:08.791771100Z"
    }
   },
   "id": "8338f74c1b1af4e6",
   "execution_count": 13
  },
  {
   "cell_type": "markdown",
   "source": [
    "#### 3. Fit the i.d. train dataset to calculate the neural mean feature vector"
   ],
   "metadata": {
    "collapsed": false
   },
   "id": "ac71c78a0108c0f5"
  },
  {
   "cell_type": "code",
   "outputs": [
    {
     "name": "stdout",
     "output_type": "stream",
     "text": [
      "connected to device: cuda\n"
     ]
    }
   ],
   "source": [
    "# set device \n",
    "device = torch.device(\"cuda\" if torch.cuda.is_available() else \"cpu\")\n",
    "print('connected to device: {}'.format(device))"
   ],
   "metadata": {
    "collapsed": false,
    "ExecuteTime": {
     "end_time": "2024-05-20T16:01:11.898348900Z",
     "start_time": "2024-05-20T16:01:11.873838100Z"
    }
   },
   "id": "c515e9db668c1f89",
   "execution_count": 14
  },
  {
   "cell_type": "code",
   "outputs": [
    {
     "name": "stdout",
     "output_type": "stream",
     "text": [
      "['conv1', 'layer1.0.conv1', 'layer1.0.conv2', 'layer1.1.conv1', 'layer1.1.conv2', 'layer1.2.conv1', 'layer1.2.conv2', 'layer2.0.conv1', 'layer2.0.conv2', 'layer2.0.downsample.0', 'layer2.1.conv1', 'layer2.1.conv2', 'layer2.2.conv1', 'layer2.2.conv2', 'layer3.0.conv1', 'layer3.0.conv2', 'layer3.0.downsample.0', 'layer3.1.conv1', 'layer3.1.conv2', 'layer3.2.conv1', 'layer3.2.conv2']\n"
     ]
    }
   ],
   "source": [
    "# Retrieve the names of the convolutional layers in the ResNet model\n",
    "layer_names = get_conv_layer_names(model)\n",
    "print(layer_names)"
   ],
   "metadata": {
    "collapsed": false,
    "ExecuteTime": {
     "end_time": "2024-05-20T16:01:12.756188500Z",
     "start_time": "2024-05-20T16:01:12.726684900Z"
    }
   },
   "id": "6345dc4a8c87ea30",
   "execution_count": 15
  },
  {
   "cell_type": "code",
   "outputs": [],
   "source": [
    "# instantiate model\n",
    "nmd_model = Neural_Mean_Discrepancy(model=model, layer_names=layer_names, device=device).to(device)\n",
    "\n",
    "# fit i.d train set to calculate the neural mean feature of the dataset. \n",
    "nmd_model.fit_in_distribution_dataset(CIFAR10_train_dataset)"
   ],
   "metadata": {
    "collapsed": false,
    "ExecuteTime": {
     "end_time": "2024-05-20T16:18:25.306009800Z",
     "start_time": "2024-05-20T16:18:25.052802Z"
    }
   },
   "id": "f05c3d8b6cd7c09a",
   "execution_count": 24
  },
  {
   "cell_type": "code",
   "outputs": [
    {
     "data": {
      "text/plain": "torch.Size([784])"
     },
     "execution_count": 70,
     "metadata": {},
     "output_type": "execute_result"
    }
   ],
   "source": [
    "# the i.d nmf of the train set\n",
    "nmd_model.nmf.shape"
   ],
   "metadata": {
    "collapsed": false,
    "ExecuteTime": {
     "end_time": "2024-05-20T21:43:53.884928800Z",
     "start_time": "2024-05-20T21:43:53.694476100Z"
    }
   },
   "id": "71ec482c4f449679",
   "execution_count": 70
  },
  {
   "cell_type": "markdown",
   "source": [
    "#### 4. Compute nmd vectors for i.d. and o.o.d. validation sets. "
   ],
   "metadata": {
    "collapsed": false
   },
   "id": "2f2a68bf6fe671b1"
  },
  {
   "cell_type": "code",
   "outputs": [
    {
     "name": "stdout",
     "output_type": "stream",
     "text": [
      "Predicting nmd of unknown distribution dataset..\n"
     ]
    },
    {
     "name": "stderr",
     "output_type": "stream",
     "text": [
      "100%|██████████| 5000/5000 [00:37<00:00, 133.75it/s]\n"
     ]
    },
    {
     "name": "stdout",
     "output_type": "stream",
     "text": [
      "torch.Size([784]) torch.Size([5000, 784])\n"
     ]
    }
   ],
   "source": [
    "cifar10_nmd_vector, cifar10_nmd_per_sample = nmd_model.predict_nmd_unk_distribtion(CIFAR10_val_dataset)\n",
    "print(cifar10_nmd_vector.shape, cifar10_nmd_per_sample.shape)"
   ],
   "metadata": {
    "collapsed": false,
    "ExecuteTime": {
     "end_time": "2024-05-20T21:22:13.313175500Z",
     "start_time": "2024-05-20T21:21:35.288295300Z"
    }
   },
   "id": "1a9f5880df3e6b7e",
   "execution_count": 50
  },
  {
   "cell_type": "code",
   "outputs": [
    {
     "name": "stdout",
     "output_type": "stream",
     "text": [
      "Predicting nmd of unknown distribution dataset..\n"
     ]
    },
    {
     "name": "stderr",
     "output_type": "stream",
     "text": [
      "100%|██████████| 13016/13016 [01:34<00:00, 137.87it/s]\n"
     ]
    },
    {
     "name": "stdout",
     "output_type": "stream",
     "text": [
      "torch.Size([784]) torch.Size([13016, 784])\n"
     ]
    }
   ],
   "source": [
    "svhn_nmd_vector, svhn_nmd_per_sample = nmd_model.predict_nmd_unk_distribtion(SVHN_val_dataset)\n",
    "print(svhn_nmd_vector.shape, svhn_nmd_per_sample.shape)"
   ],
   "metadata": {
    "collapsed": false,
    "ExecuteTime": {
     "end_time": "2024-05-20T21:23:49.072378200Z",
     "start_time": "2024-05-20T21:22:13.314664Z"
    }
   },
   "id": "83c0b6e971dc3090",
   "execution_count": 51
  },
  {
   "cell_type": "code",
   "outputs": [
    {
     "data": {
      "text/plain": "(tensor(-2.9543e-06, device='cuda:0'), tensor(0.0079, device='cuda:0'))"
     },
     "execution_count": 54,
     "metadata": {},
     "output_type": "execute_result"
    }
   ],
   "source": [
    "# mean nmd for i.d. test set is much smaller than for o.o.d.\n",
    "cifar10_nmd_vector.mean(), svhn_nmd_vector.mean()"
   ],
   "metadata": {
    "collapsed": false,
    "ExecuteTime": {
     "end_time": "2024-05-20T21:23:54.276134500Z",
     "start_time": "2024-05-20T21:23:54.241410900Z"
    }
   },
   "id": "e1aba918c1b2c49e",
   "execution_count": 54
  },
  {
   "cell_type": "markdown",
   "source": [
    "#### 5. Train LogisticRegression o.o.d detector model using neural mean discrepancy vectors as samples "
   ],
   "metadata": {
    "collapsed": false
   },
   "id": "a0b0932e246c5071"
  },
  {
   "cell_type": "code",
   "outputs": [
    {
     "name": "stdout",
     "output_type": "stream",
     "text": [
      "(18016, 784) (18016,)\n"
     ]
    }
   ],
   "source": [
    "# i.d samples are negative (label = 0), o.o.d samples are positive (label = 1)\n",
    "val_examples = np.concatenate([cifar10_nmd_per_sample.cpu().numpy(), \n",
    "                               svhn_nmd_per_sample.cpu().numpy()], axis=0)\n",
    "val_labels = np.concatenate([np.zeros(cifar10_nmd_per_sample.shape[0]), \n",
    "                             np.ones(svhn_nmd_per_sample.shape[0])], axis=0)\n",
    "print(val_examples.shape, val_labels.shape)"
   ],
   "metadata": {
    "collapsed": false,
    "ExecuteTime": {
     "end_time": "2024-05-20T21:25:52.955978100Z",
     "start_time": "2024-05-20T21:25:52.848536200Z"
    }
   },
   "id": "a48ab2818b3426e6",
   "execution_count": 60
  },
  {
   "cell_type": "code",
   "outputs": [
    {
     "data": {
      "text/plain": "LogisticRegression(max_iter=500)",
      "text/html": "<style>#sk-container-id-1 {color: black;background-color: white;}#sk-container-id-1 pre{padding: 0;}#sk-container-id-1 div.sk-toggleable {background-color: white;}#sk-container-id-1 label.sk-toggleable__label {cursor: pointer;display: block;width: 100%;margin-bottom: 0;padding: 0.3em;box-sizing: border-box;text-align: center;}#sk-container-id-1 label.sk-toggleable__label-arrow:before {content: \"▸\";float: left;margin-right: 0.25em;color: #696969;}#sk-container-id-1 label.sk-toggleable__label-arrow:hover:before {color: black;}#sk-container-id-1 div.sk-estimator:hover label.sk-toggleable__label-arrow:before {color: black;}#sk-container-id-1 div.sk-toggleable__content {max-height: 0;max-width: 0;overflow: hidden;text-align: left;background-color: #f0f8ff;}#sk-container-id-1 div.sk-toggleable__content pre {margin: 0.2em;color: black;border-radius: 0.25em;background-color: #f0f8ff;}#sk-container-id-1 input.sk-toggleable__control:checked~div.sk-toggleable__content {max-height: 200px;max-width: 100%;overflow: auto;}#sk-container-id-1 input.sk-toggleable__control:checked~label.sk-toggleable__label-arrow:before {content: \"▾\";}#sk-container-id-1 div.sk-estimator input.sk-toggleable__control:checked~label.sk-toggleable__label {background-color: #d4ebff;}#sk-container-id-1 div.sk-label input.sk-toggleable__control:checked~label.sk-toggleable__label {background-color: #d4ebff;}#sk-container-id-1 input.sk-hidden--visually {border: 0;clip: rect(1px 1px 1px 1px);clip: rect(1px, 1px, 1px, 1px);height: 1px;margin: -1px;overflow: hidden;padding: 0;position: absolute;width: 1px;}#sk-container-id-1 div.sk-estimator {font-family: monospace;background-color: #f0f8ff;border: 1px dotted black;border-radius: 0.25em;box-sizing: border-box;margin-bottom: 0.5em;}#sk-container-id-1 div.sk-estimator:hover {background-color: #d4ebff;}#sk-container-id-1 div.sk-parallel-item::after {content: \"\";width: 100%;border-bottom: 1px solid gray;flex-grow: 1;}#sk-container-id-1 div.sk-label:hover label.sk-toggleable__label {background-color: #d4ebff;}#sk-container-id-1 div.sk-serial::before {content: \"\";position: absolute;border-left: 1px solid gray;box-sizing: border-box;top: 0;bottom: 0;left: 50%;z-index: 0;}#sk-container-id-1 div.sk-serial {display: flex;flex-direction: column;align-items: center;background-color: white;padding-right: 0.2em;padding-left: 0.2em;position: relative;}#sk-container-id-1 div.sk-item {position: relative;z-index: 1;}#sk-container-id-1 div.sk-parallel {display: flex;align-items: stretch;justify-content: center;background-color: white;position: relative;}#sk-container-id-1 div.sk-item::before, #sk-container-id-1 div.sk-parallel-item::before {content: \"\";position: absolute;border-left: 1px solid gray;box-sizing: border-box;top: 0;bottom: 0;left: 50%;z-index: -1;}#sk-container-id-1 div.sk-parallel-item {display: flex;flex-direction: column;z-index: 1;position: relative;background-color: white;}#sk-container-id-1 div.sk-parallel-item:first-child::after {align-self: flex-end;width: 50%;}#sk-container-id-1 div.sk-parallel-item:last-child::after {align-self: flex-start;width: 50%;}#sk-container-id-1 div.sk-parallel-item:only-child::after {width: 0;}#sk-container-id-1 div.sk-dashed-wrapped {border: 1px dashed gray;margin: 0 0.4em 0.5em 0.4em;box-sizing: border-box;padding-bottom: 0.4em;background-color: white;}#sk-container-id-1 div.sk-label label {font-family: monospace;font-weight: bold;display: inline-block;line-height: 1.2em;}#sk-container-id-1 div.sk-label-container {text-align: center;}#sk-container-id-1 div.sk-container {/* jupyter's `normalize.less` sets `[hidden] { display: none; }` but bootstrap.min.css set `[hidden] { display: none !important; }` so we also need the `!important` here to be able to override the default hidden behavior on the sphinx rendered scikit-learn.org. See: https://github.com/scikit-learn/scikit-learn/issues/21755 */display: inline-block !important;position: relative;}#sk-container-id-1 div.sk-text-repr-fallback {display: none;}</style><div id=\"sk-container-id-1\" class=\"sk-top-container\"><div class=\"sk-text-repr-fallback\"><pre>LogisticRegression(max_iter=500)</pre><b>In a Jupyter environment, please rerun this cell to show the HTML representation or trust the notebook. <br />On GitHub, the HTML representation is unable to render, please try loading this page with nbviewer.org.</b></div><div class=\"sk-container\" hidden><div class=\"sk-item\"><div class=\"sk-estimator sk-toggleable\"><input class=\"sk-toggleable__control sk-hidden--visually\" id=\"sk-estimator-id-1\" type=\"checkbox\" checked><label for=\"sk-estimator-id-1\" class=\"sk-toggleable__label sk-toggleable__label-arrow\">LogisticRegression</label><div class=\"sk-toggleable__content\"><pre>LogisticRegression(max_iter=500)</pre></div></div></div></div></div>"
     },
     "execution_count": 61,
     "metadata": {},
     "output_type": "execute_result"
    }
   ],
   "source": [
    "# fit LR\n",
    "lr = LogisticRegression(max_iter=500)\n",
    "lr.fit(val_examples, val_labels)"
   ],
   "metadata": {
    "collapsed": false,
    "ExecuteTime": {
     "end_time": "2024-05-20T21:25:56.244662800Z",
     "start_time": "2024-05-20T21:25:55.289505700Z"
    }
   },
   "id": "9134113fd5975a5",
   "execution_count": 61
  },
  {
   "cell_type": "markdown",
   "source": [
    "#### 6. Evaluate o.o.d. detector on test set"
   ],
   "metadata": {
    "collapsed": false
   },
   "id": "3c72518be5dcc44e"
  },
  {
   "cell_type": "code",
   "outputs": [
    {
     "name": "stdout",
     "output_type": "stream",
     "text": [
      "Predicting nmd of unknown distribution dataset..\n"
     ]
    },
    {
     "name": "stderr",
     "output_type": "stream",
     "text": [
      "100%|██████████| 5000/5000 [00:40<00:00, 121.96it/s]\n"
     ]
    },
    {
     "name": "stdout",
     "output_type": "stream",
     "text": [
      "torch.Size([5000, 784])\n",
      "Predicting nmd of unknown distribution dataset..\n"
     ]
    },
    {
     "name": "stderr",
     "output_type": "stream",
     "text": [
      "100%|██████████| 13016/13016 [01:43<00:00, 125.44it/s]\n"
     ]
    },
    {
     "name": "stdout",
     "output_type": "stream",
     "text": [
      "torch.Size([13016, 784])\n"
     ]
    }
   ],
   "source": [
    "# create nmd vectors for the i.d and o.o.d test set\n",
    "_, cifar10_nmd_test = nmd_model.predict_nmd_unk_distribtion(CIFAR10_test_dataset)\n",
    "print(cifar10_nmd_test.shape)\n",
    "_, svhn_nmd_test = nmd_model.predict_nmd_unk_distribtion(SVHN_test_dataset)\n",
    "print(svhn_nmd_test.shape)"
   ],
   "metadata": {
    "collapsed": false,
    "ExecuteTime": {
     "end_time": "2024-05-20T21:30:03.956355300Z",
     "start_time": "2024-05-20T21:27:37.439260Z"
    }
   },
   "id": "400a30000721f9d3",
   "execution_count": 62
  },
  {
   "cell_type": "code",
   "outputs": [
    {
     "name": "stdout",
     "output_type": "stream",
     "text": [
      "(18016, 784) (18016,)\n"
     ]
    }
   ],
   "source": [
    "# i.d samples are negative (label = 0), o.o.d samples are positive (label = 1)\n",
    "test_examples = np.concatenate([cifar10_nmd_test.cpu().numpy(), \n",
    "                               svhn_nmd_test.cpu().numpy()], axis=0)\n",
    "test_labels = np.concatenate([np.zeros(cifar10_nmd_test.shape[0]), \n",
    "                             np.ones(svhn_nmd_test.shape[0])], axis=0)\n",
    "print(test_examples.shape, test_labels.shape)"
   ],
   "metadata": {
    "collapsed": false,
    "ExecuteTime": {
     "end_time": "2024-05-20T21:30:04.032236300Z",
     "start_time": "2024-05-20T21:30:03.934827400Z"
    }
   },
   "id": "a6c6ab03e1c96b4e",
   "execution_count": 63
  },
  {
   "cell_type": "code",
   "outputs": [
    {
     "name": "stdout",
     "output_type": "stream",
     "text": [
      "              precision    recall  f1-score   support\n",
      "\n",
      "          id     0.9938    0.9910    0.9924      5000\n",
      "         ood     0.9965    0.9976    0.9971     13016\n",
      "\n",
      "    accuracy                         0.9958     18016\n",
      "   macro avg     0.9952    0.9943    0.9947     18016\n",
      "weighted avg     0.9958    0.9958    0.9958     18016\n"
     ]
    }
   ],
   "source": [
    "test_predictions = lr.predict(test_examples)\n",
    "clf_report = classification_report(test_labels, test_predictions, \n",
    "                                   labels=[0,1], target_names=['id', 'ood'], digits=4, output_dict=False, zero_division='warn')\n",
    "print(clf_report)"
   ],
   "metadata": {
    "collapsed": false,
    "ExecuteTime": {
     "end_time": "2024-05-20T21:31:43.920949600Z",
     "start_time": "2024-05-20T21:31:43.748246800Z"
    }
   },
   "id": "6db5a1752b464fac",
   "execution_count": 68
  },
  {
   "cell_type": "code",
   "outputs": [],
   "source": [],
   "metadata": {
    "collapsed": false
   },
   "id": "827bc9003436c53e"
  }
 ],
 "metadata": {
  "kernelspec": {
   "display_name": "Python 3",
   "language": "python",
   "name": "python3"
  },
  "language_info": {
   "codemirror_mode": {
    "name": "ipython",
    "version": 2
   },
   "file_extension": ".py",
   "mimetype": "text/x-python",
   "name": "python",
   "nbconvert_exporter": "python",
   "pygments_lexer": "ipython2",
   "version": "2.7.6"
  }
 },
 "nbformat": 4,
 "nbformat_minor": 5
}
